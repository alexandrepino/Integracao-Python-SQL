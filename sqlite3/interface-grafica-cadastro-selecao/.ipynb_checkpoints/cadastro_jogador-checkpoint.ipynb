{
 "cells": [
  {
   "cell_type": "code",
   "execution_count": 3,
   "id": "99fd0ff1",
   "metadata": {},
   "outputs": [
    {
     "ename": "ModuleNotFoundError",
     "evalue": "No module named 'tkinter'",
     "output_type": "error",
     "traceback": [
      "\u001b[0;31m---------------------------------------------------------------------------\u001b[0m",
      "\u001b[0;31mModuleNotFoundError\u001b[0m                       Traceback (most recent call last)",
      "\u001b[0;32m/tmp/ipykernel_8388/2436494050.py\u001b[0m in \u001b[0;36m<module>\u001b[0;34m\u001b[0m\n\u001b[0;32m----> 1\u001b[0;31m \u001b[0;32mimport\u001b[0m \u001b[0mtkinter\u001b[0m \u001b[0;32mas\u001b[0m \u001b[0mtk\u001b[0m\u001b[0;34m\u001b[0m\u001b[0;34m\u001b[0m\u001b[0m\n\u001b[0m\u001b[1;32m      2\u001b[0m \u001b[0;32mimport\u001b[0m \u001b[0msqlite3\u001b[0m\u001b[0;34m\u001b[0m\u001b[0;34m\u001b[0m\u001b[0m\n\u001b[1;32m      3\u001b[0m \u001b[0;32mimport\u001b[0m \u001b[0mpandas\u001b[0m \u001b[0;32mas\u001b[0m \u001b[0mpd\u001b[0m\u001b[0;34m\u001b[0m\u001b[0;34m\u001b[0m\u001b[0m\n\u001b[1;32m      4\u001b[0m \u001b[0;32mimport\u001b[0m \u001b[0mos\u001b[0m\u001b[0;34m\u001b[0m\u001b[0;34m\u001b[0m\u001b[0m\n\u001b[1;32m      5\u001b[0m \u001b[0;32mimport\u001b[0m \u001b[0mpandas\u001b[0m \u001b[0;32mas\u001b[0m \u001b[0mpd\u001b[0m\u001b[0;34m\u001b[0m\u001b[0;34m\u001b[0m\u001b[0m\n",
      "\u001b[0;31mModuleNotFoundError\u001b[0m: No module named 'tkinter'"
     ]
    }
   ],
   "source": [
    "import tkinter as tk\n",
    "import sqlite3\n",
    "import pandas as pd\n",
    "import os\n",
    "import pandas as pd"
   ]
  },
  {
   "cell_type": "code",
   "execution_count": 4,
   "id": "79af0364",
   "metadata": {},
   "outputs": [
    {
     "name": "stdout",
     "output_type": "stream",
     "text": [
      "/usr/lib/python3/dist-packages/secretstorage/dhcrypto.py:15: CryptographyDeprecationWarning: int_from_bytes is deprecated, use int.from_bytes instead\n",
      "  from cryptography.utils import int_from_bytes\n",
      "/usr/lib/python3/dist-packages/secretstorage/util.py:19: CryptographyDeprecationWarning: int_from_bytes is deprecated, use int.from_bytes instead\n",
      "  from cryptography.utils import int_from_bytes\n",
      "Defaulting to user installation because normal site-packages is not writeable\n",
      "\u001b[31mERROR: Could not find a version that satisfies the requirement tkinter (from versions: none)\u001b[0m\u001b[31m\n",
      "\u001b[0m\u001b[31mERROR: No matching distribution found for tkinter\u001b[0m\u001b[31m\n",
      "\u001b[0m"
     ]
    }
   ],
   "source": [
    "!pip install tkinter"
   ]
  },
  {
   "cell_type": "code",
   "execution_count": null,
   "id": "c7491d5a",
   "metadata": {},
   "outputs": [],
   "source": [
    "os.remove('jogadores.db')if os.path.exists('jogadores.db') else None"
   ]
  },
  {
   "cell_type": "code",
   "execution_count": null,
   "id": "d11d275a",
   "metadata": {},
   "outputs": [],
   "source": [
    "conexao = sqlite3.connect('jogadores.db')\n",
    "#\n",
    "# # Criando o cursor:\n",
    "c = conexao.cursor()\n",
    "#\n",
    "# # Criando a tabela:\n",
    "def create_table():\n",
    "    c.execute(\"\"\"CREATE TABLE  jogador (\n",
    "     nome text,\n",
    "     selecao text,\n",
    "     idade integer,\n",
    "     posicao text\n",
    "     )\"\"\")\n",
    "#\n",
    "# #Commit as mudanças:\n",
    "    conexao.commit()\n",
    "#\n",
    "# #Fechar o banco de dados:\n",
    "    #conexao.close()\n",
    "create_table()"
   ]
  },
  {
   "cell_type": "code",
   "execution_count": null,
   "id": "ffb5afc4",
   "metadata": {},
   "outputs": [],
   "source": [
    "#Criando Janela:\n",
    "\n",
    "janela = tk.Tk()\n",
    "janela.title('Cadastro de Jogador')\n",
    "janela. geometry(\"330x350\")"
   ]
  },
  {
   "cell_type": "code",
   "execution_count": null,
   "id": "a66128d0",
   "metadata": {},
   "outputs": [],
   "source": [
    "def cadastrar_jogador():\n",
    "    conexao = sqlite3.connect('jogadores.db')\n",
    "    c = conexao.cursor()\n",
    "\n",
    "    #Inserir dados na tabela:\n",
    "    c.execute(\"INSERT INTO jogador VALUES (:nome,:selecao,:idade,:posicao)\",\n",
    "              {\n",
    "                  'nome': entry_nome.get(),\n",
    "                  'selecao': entry_selecao.get(),\n",
    "                  'idade': entry_idade.get(),\n",
    "                  'posicao': entry_posicao.get()\n",
    "              })\n",
    "\n",
    "\n",
    "    # Commit as mudanças:\n",
    "    conexao.commit()\n",
    "\n",
    "    # Fechar o banco de dados:\n",
    "    #conexao.close()\n",
    "\n",
    "    # #Apaga os valores das caixas de entrada\n",
    "    entry_nome.delete(0,\"end\")\n",
    "    entry_selecao.delete(0,\"end\")\n",
    "    entry_idade.delete(0,\"end\")\n",
    "    entry_posicao.delete(0,\"end\")"
   ]
  },
  {
   "cell_type": "code",
   "execution_count": null,
   "id": "8e62d925",
   "metadata": {},
   "outputs": [],
   "source": [
    "def find_all():\n",
    "    \n",
    "    conexao = sqlite3.connect('jogadores.db')\n",
    "    c = conexao.cursor()\n",
    "    c.execute(\"SELECT * FROM jogador\")\n",
    "    return c.fetchall()"
   ]
  },
  {
   "cell_type": "code",
   "execution_count": null,
   "id": "88588e08",
   "metadata": {},
   "outputs": [],
   "source": [
    "def deletar_registro(nome):\n",
    "    \n",
    "    conexao = sqlite3.connect('jogadores.db')\n",
    "    c = conexao.cursor()\n",
    "    cursor.execute(\"DELETE from jogador WHERE nome = %s\", (str(nome),))\n",
    "    conexao.commit()"
   ]
  },
  {
   "cell_type": "code",
   "execution_count": null,
   "id": "037ccc33",
   "metadata": {},
   "outputs": [],
   "source": [
    "def deletar_table():\n",
    "    \n",
    "    conexao = sqlite3.connect('jogadores.db')\n",
    "    c = conexao.cursor()\n",
    "    cursor.execute(\"DROP TABLE jogador\")\n",
    "    conexao.commit()"
   ]
  },
  {
   "cell_type": "code",
   "execution_count": null,
   "id": "47b5a018",
   "metadata": {},
   "outputs": [],
   "source": [
    "#Rótulos Entradas:\n",
    "label_nome = tk.Label(janela, text='Nome')\n",
    "label_nome.grid(row=0,column=0, padx=10, pady=10)\n",
    "\n",
    "label_selecao = tk.Label(janela, text='Seleção')\n",
    "label_selecao.grid(row=1, column=0, padx=10, pady=10)\n",
    "\n",
    "label_idade = tk.Label(janela, text='Idade')\n",
    "label_idade.grid(row=2, column=0 , padx=10, pady=10)\n",
    "\n",
    "label_posicao = tk.Label(janela, text='Posição')\n",
    "label_posicao.grid(row=3, column=0, padx=10, pady=10)\n",
    "\n",
    "#Caixas Entradas:\n",
    "entry_nome = tk.Entry(janela , width =35)\n",
    "entry_nome.grid(row=0,column=1, padx=10, pady=10)\n",
    "\n",
    "entry_selecao = tk.Entry(janela, width =35)\n",
    "entry_selecao.grid(row=1, column=1, padx=10, pady=10)\n",
    "\n",
    "entry_idade = tk.Entry(janela, width =35)\n",
    "entry_idade.grid(row=2, column=1 , padx=10, pady=10)\n",
    "\n",
    "entry_posicao = tk.Entry(janela, width =35)\n",
    "entry_posicao.grid(row=3, column=1, padx=10, pady=10)\n",
    "\n",
    "# Botão de Cadastrar\n",
    "\n",
    "botao_cadastrar = tk.Button(text='Cadastrar Jogador', command=cadastrar_jogador)\n",
    "botao_cadastrar.grid(row=4, column=0,columnspan=2, padx=10, pady=10 , ipadx = 80)\n",
    "\n",
    "\n",
    "\n",
    "\n",
    "janela.mainloop()"
   ]
  },
  {
   "cell_type": "code",
   "execution_count": null,
   "id": "b2c4628b",
   "metadata": {},
   "outputs": [],
   "source": [
    "s = find_all()\n",
    "s"
   ]
  },
  {
   "cell_type": "code",
   "execution_count": null,
   "id": "72ae8e88",
   "metadata": {},
   "outputs": [],
   "source": [
    "jogador_df = pd.read_sql('select * from jogador',conexao)\n",
    "jogador_df"
   ]
  },
  {
   "cell_type": "code",
   "execution_count": null,
   "id": "0db06020",
   "metadata": {},
   "outputs": [],
   "source": []
  }
 ],
 "metadata": {
  "kernelspec": {
   "display_name": "Python 3 (ipykernel)",
   "language": "python",
   "name": "python3"
  },
  "language_info": {
   "codemirror_mode": {
    "name": "ipython",
    "version": 3
   },
   "file_extension": ".py",
   "mimetype": "text/x-python",
   "name": "python",
   "nbconvert_exporter": "python",
   "pygments_lexer": "ipython3",
   "version": "3.8.10"
  }
 },
 "nbformat": 4,
 "nbformat_minor": 5
}
