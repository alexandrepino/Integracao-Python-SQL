{
 "cells": [
  {
   "cell_type": "markdown",
   "id": "dd25deb4",
   "metadata": {},
   "source": [
    "# Importando as Bibliotecas utilizadas no projeto "
   ]
  },
  {
   "cell_type": "code",
   "execution_count": 9,
   "id": "1f670219",
   "metadata": {},
   "outputs": [],
   "source": [
    "import pandas as pd\n",
    "import os\n",
    "import sqlite3\n",
    "import matplotlib.pyplot as plt"
   ]
  },
  {
   "cell_type": "markdown",
   "id": "3d20007c",
   "metadata": {},
   "source": [
    "# Auto remove do projeto"
   ]
  },
  {
   "cell_type": "code",
   "execution_count": 10,
   "id": "805e3de3",
   "metadata": {},
   "outputs": [],
   "source": [
    "os.remove('acervocursos.db')if os.path.exists('acervocursos.db') else None"
   ]
  },
  {
   "cell_type": "markdown",
   "id": "757f493f",
   "metadata": {},
   "source": [
    "# Criando a conexão com o banco de dados"
   ]
  },
  {
   "cell_type": "code",
   "execution_count": 11,
   "id": "22cdefde",
   "metadata": {},
   "outputs": [],
   "source": [
    "conexao = sqlite3.connect('acervocursos.db')"
   ]
  },
  {
   "cell_type": "markdown",
   "id": "a2c13179",
   "metadata": {},
   "source": [
    "# Criando o cursor para percorrer as linhas com o banco de dados"
   ]
  },
  {
   "cell_type": "code",
   "execution_count": 12,
   "id": "16bb5a5d",
   "metadata": {},
   "outputs": [],
   "source": [
    "cur = conexao.cursor()"
   ]
  },
  {
   "cell_type": "markdown",
   "id": "bfc56eb0",
   "metadata": {},
   "source": [
    "# Criando a função para criar tabela de cursos"
   ]
  },
  {
   "cell_type": "code",
   "execution_count": 13,
   "id": "51d4955d",
   "metadata": {},
   "outputs": [],
   "source": [
    "def create_table():\n",
    "    cur.execute('create table cursos (id integer primary key not null, nome varchar(20), categoria varchar(20), professor varchar(20), valor real)')"
   ]
  },
  {
   "cell_type": "markdown",
   "id": "48e85885",
   "metadata": {},
   "source": [
    "# Criando a função de inserir registros na tabela de cursos"
   ]
  },
  {
   "cell_type": "code",
   "execution_count": 14,
   "id": "9b59cf9d",
   "metadata": {},
   "outputs": [],
   "source": [
    "def sql_insert():\n",
    "    novo_nome = input('Nome: ')\n",
    "    nova_categoria = input('Categoria: ')\n",
    "    novo_professores = input('Professor: ')\n",
    "    novo_valor = float(input('Valor: '))\n",
    "    cur.execute('insert into cursos(nome, categoria, professor, valor) values (?,?,?,?)',(novo_nome, nova_categoria, novo_professores, novo_valor))\n",
    "    conexao.commit()"
   ]
  },
  {
   "cell_type": "markdown",
   "id": "66753c2a",
   "metadata": {},
   "source": [
    "# Executando a função de criar tabela"
   ]
  },
  {
   "cell_type": "code",
   "execution_count": 15,
   "id": "7caff151",
   "metadata": {},
   "outputs": [],
   "source": [
    "create_table()"
   ]
  },
  {
   "cell_type": "markdown",
   "id": "cc7b516a",
   "metadata": {},
   "source": [
    "# Executando a função de inserir dados e cadastrando cursos na tela"
   ]
  },
  {
   "cell_type": "code",
   "execution_count": 16,
   "id": "ac32ad9c",
   "metadata": {},
   "outputs": [
    {
     "name": "stdout",
     "output_type": "stream",
     "text": [
      "Nome: MySql\n",
      "Categoria: Banco de Dados\n",
      "Professor: Nelio\n",
      "Valor: 300\n",
      "Nome: Java\n",
      "Categoria: Programação\n",
      "Professor: Gustavo\n",
      "Valor: 200\n",
      "Nome: Excel\n",
      "Categoria: Pacote Office\n",
      "Professor: Guga\n",
      "Valor: 100\n",
      "Nome: Python\n",
      "Categoria: Programação\n",
      "Professor: Lira\n",
      "Valor: 250\n",
      "Nome: Postgres\n",
      "Categoria: Banco de Dados\n",
      "Professor: Alon\n",
      "Valor: 130\n",
      "Nome: Word\n",
      "Categoria: Pacote Office\n",
      "Professor: Alfredo\n",
      "Valor: 80\n",
      "Nome: Automação\n",
      "Categoria: Programação\n",
      "Professor: Lira\n",
      "Valor: 400\n"
     ]
    }
   ],
   "source": [
    "for r in range(7):\n",
    "    sql_insert()\n",
    "    "
   ]
  },
  {
   "cell_type": "markdown",
   "id": "2a5ec9db",
   "metadata": {},
   "source": [
    "# Convertendo a tabela cursos para um DataFrame e modificando o nome da coluna"
   ]
  },
  {
   "cell_type": "code",
   "execution_count": 17,
   "id": "87041ced",
   "metadata": {},
   "outputs": [],
   "source": [
    "cursos_df = pd.read_sql('Select * from cursos', conexao)\n",
    "cursos_df = cursos_df.rename(columns={'id': 'id_curso'})"
   ]
  },
  {
   "cell_type": "markdown",
   "id": "a2aa0dbb",
   "metadata": {},
   "source": [
    "# Exibindo a tabela cursos na tela"
   ]
  },
  {
   "cell_type": "code",
   "execution_count": 18,
   "id": "fc3ef2b1",
   "metadata": {},
   "outputs": [
    {
     "data": {
      "text/html": [
       "<div>\n",
       "<style scoped>\n",
       "    .dataframe tbody tr th:only-of-type {\n",
       "        vertical-align: middle;\n",
       "    }\n",
       "\n",
       "    .dataframe tbody tr th {\n",
       "        vertical-align: top;\n",
       "    }\n",
       "\n",
       "    .dataframe thead th {\n",
       "        text-align: right;\n",
       "    }\n",
       "</style>\n",
       "<table border=\"1\" class=\"dataframe\">\n",
       "  <thead>\n",
       "    <tr style=\"text-align: right;\">\n",
       "      <th></th>\n",
       "      <th>id_curso</th>\n",
       "      <th>nome</th>\n",
       "      <th>categoria</th>\n",
       "      <th>professor</th>\n",
       "      <th>valor</th>\n",
       "    </tr>\n",
       "  </thead>\n",
       "  <tbody>\n",
       "    <tr>\n",
       "      <th>0</th>\n",
       "      <td>1</td>\n",
       "      <td>MySql</td>\n",
       "      <td>Banco de Dados</td>\n",
       "      <td>Nelio</td>\n",
       "      <td>300.0</td>\n",
       "    </tr>\n",
       "    <tr>\n",
       "      <th>1</th>\n",
       "      <td>2</td>\n",
       "      <td>Java</td>\n",
       "      <td>Programação</td>\n",
       "      <td>Gustavo</td>\n",
       "      <td>200.0</td>\n",
       "    </tr>\n",
       "    <tr>\n",
       "      <th>2</th>\n",
       "      <td>3</td>\n",
       "      <td>Excel</td>\n",
       "      <td>Pacote Office</td>\n",
       "      <td>Guga</td>\n",
       "      <td>100.0</td>\n",
       "    </tr>\n",
       "    <tr>\n",
       "      <th>3</th>\n",
       "      <td>4</td>\n",
       "      <td>Python</td>\n",
       "      <td>Programação</td>\n",
       "      <td>Lira</td>\n",
       "      <td>250.0</td>\n",
       "    </tr>\n",
       "    <tr>\n",
       "      <th>4</th>\n",
       "      <td>5</td>\n",
       "      <td>Postgres</td>\n",
       "      <td>Banco de Dados</td>\n",
       "      <td>Alon</td>\n",
       "      <td>130.0</td>\n",
       "    </tr>\n",
       "    <tr>\n",
       "      <th>5</th>\n",
       "      <td>6</td>\n",
       "      <td>Word</td>\n",
       "      <td>Pacote Office</td>\n",
       "      <td>Alfredo</td>\n",
       "      <td>80.0</td>\n",
       "    </tr>\n",
       "    <tr>\n",
       "      <th>6</th>\n",
       "      <td>7</td>\n",
       "      <td>Automação</td>\n",
       "      <td>Programação</td>\n",
       "      <td>Lira</td>\n",
       "      <td>400.0</td>\n",
       "    </tr>\n",
       "  </tbody>\n",
       "</table>\n",
       "</div>"
      ],
      "text/plain": [
       "   id_curso       nome       categoria professor  valor\n",
       "0         1      MySql  Banco de Dados     Nelio  300.0\n",
       "1         2       Java     Programação   Gustavo  200.0\n",
       "2         3      Excel   Pacote Office      Guga  100.0\n",
       "3         4     Python     Programação      Lira  250.0\n",
       "4         5   Postgres  Banco de Dados      Alon  130.0\n",
       "5         6       Word   Pacote Office   Alfredo   80.0\n",
       "6         7  Automação     Programação      Lira  400.0"
      ]
     },
     "execution_count": 18,
     "metadata": {},
     "output_type": "execute_result"
    }
   ],
   "source": [
    "cursos_df"
   ]
  },
  {
   "cell_type": "markdown",
   "id": "f00315c7",
   "metadata": {},
   "source": [
    "# Modificando o index da tabela "
   ]
  },
  {
   "cell_type": "code",
   "execution_count": 19,
   "id": "59512406",
   "metadata": {},
   "outputs": [
    {
     "data": {
      "text/html": [
       "<div>\n",
       "<style scoped>\n",
       "    .dataframe tbody tr th:only-of-type {\n",
       "        vertical-align: middle;\n",
       "    }\n",
       "\n",
       "    .dataframe tbody tr th {\n",
       "        vertical-align: top;\n",
       "    }\n",
       "\n",
       "    .dataframe thead th {\n",
       "        text-align: right;\n",
       "    }\n",
       "</style>\n",
       "<table border=\"1\" class=\"dataframe\">\n",
       "  <thead>\n",
       "    <tr style=\"text-align: right;\">\n",
       "      <th></th>\n",
       "      <th>nome</th>\n",
       "      <th>categoria</th>\n",
       "      <th>professor</th>\n",
       "      <th>valor</th>\n",
       "    </tr>\n",
       "    <tr>\n",
       "      <th>id_curso</th>\n",
       "      <th></th>\n",
       "      <th></th>\n",
       "      <th></th>\n",
       "      <th></th>\n",
       "    </tr>\n",
       "  </thead>\n",
       "  <tbody>\n",
       "    <tr>\n",
       "      <th>1</th>\n",
       "      <td>MySql</td>\n",
       "      <td>Banco de Dados</td>\n",
       "      <td>Nelio</td>\n",
       "      <td>300.0</td>\n",
       "    </tr>\n",
       "    <tr>\n",
       "      <th>2</th>\n",
       "      <td>Java</td>\n",
       "      <td>Programação</td>\n",
       "      <td>Gustavo</td>\n",
       "      <td>200.0</td>\n",
       "    </tr>\n",
       "    <tr>\n",
       "      <th>3</th>\n",
       "      <td>Excel</td>\n",
       "      <td>Pacote Office</td>\n",
       "      <td>Guga</td>\n",
       "      <td>100.0</td>\n",
       "    </tr>\n",
       "    <tr>\n",
       "      <th>4</th>\n",
       "      <td>Python</td>\n",
       "      <td>Programação</td>\n",
       "      <td>Lira</td>\n",
       "      <td>250.0</td>\n",
       "    </tr>\n",
       "    <tr>\n",
       "      <th>5</th>\n",
       "      <td>Postgres</td>\n",
       "      <td>Banco de Dados</td>\n",
       "      <td>Alon</td>\n",
       "      <td>130.0</td>\n",
       "    </tr>\n",
       "    <tr>\n",
       "      <th>6</th>\n",
       "      <td>Word</td>\n",
       "      <td>Pacote Office</td>\n",
       "      <td>Alfredo</td>\n",
       "      <td>80.0</td>\n",
       "    </tr>\n",
       "    <tr>\n",
       "      <th>7</th>\n",
       "      <td>Automação</td>\n",
       "      <td>Programação</td>\n",
       "      <td>Lira</td>\n",
       "      <td>400.0</td>\n",
       "    </tr>\n",
       "  </tbody>\n",
       "</table>\n",
       "</div>"
      ],
      "text/plain": [
       "               nome       categoria professor  valor\n",
       "id_curso                                            \n",
       "1             MySql  Banco de Dados     Nelio  300.0\n",
       "2              Java     Programação   Gustavo  200.0\n",
       "3             Excel   Pacote Office      Guga  100.0\n",
       "4            Python     Programação      Lira  250.0\n",
       "5          Postgres  Banco de Dados      Alon  130.0\n",
       "6              Word   Pacote Office   Alfredo   80.0\n",
       "7         Automação     Programação      Lira  400.0"
      ]
     },
     "execution_count": 19,
     "metadata": {},
     "output_type": "execute_result"
    }
   ],
   "source": [
    "cursos_df = cursos_df.set_index('id_curso')\n",
    "cursos_df"
   ]
  },
  {
   "cell_type": "markdown",
   "id": "c4c61c24",
   "metadata": {},
   "source": [
    "# Criando a função do gráfico com os valores e nomes de cada curso"
   ]
  },
  {
   "cell_type": "code",
   "execution_count": 24,
   "id": "46a5770a",
   "metadata": {},
   "outputs": [],
   "source": [
    "def grafico():\n",
    "    cur.execute('select nome, valor from cursos')\n",
    "    nomes = []\n",
    "    valores = []\n",
    "    dados = cur.fetchall()\n",
    "    for linha in dados:\n",
    "        nomes.append(linha[0])\n",
    "        valores.append(linha[1])\n",
    "    plt.bar(nomes, valores)    \n",
    "    plt.show()\n",
    "    "
   ]
  },
  {
   "cell_type": "markdown",
   "id": "75839693",
   "metadata": {},
   "source": [
    "# Exibindo o gráfico na tela"
   ]
  },
  {
   "cell_type": "code",
   "execution_count": 29,
   "id": "d50d4462",
   "metadata": {},
   "outputs": [
    {
     "data": {
      "image/png": "[encoded data removed]",
      "text/plain": [
       "<Figure size 432x288 with 1 Axes>"
      ]
     },
     "metadata": {
      "needs_background": "light"
     },
     "output_type": "display_data"
    }
   ],
   "source": [
    "grafico()"
   ]
  }
 ],
 "metadata": {
  "kernelspec": {
   "display_name": "Python 3 (ipykernel)",
   "language": "python",
   "name": "python3"
  },
  "language_info": {
   "codemirror_mode": {
    "name": "ipython",
    "version": 3
   },
   "file_extension": ".py",
   "mimetype": "text/x-python",
   "name": "python",
   "nbconvert_exporter": "python",
   "pygments_lexer": "ipython3",
   "version": "3.8.10"
  }
 },
 "nbformat": 4,
 "nbformat_minor": 5
}
