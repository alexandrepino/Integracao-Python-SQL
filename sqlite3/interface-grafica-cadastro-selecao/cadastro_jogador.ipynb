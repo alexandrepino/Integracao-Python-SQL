{
 "cells": [
  {
   "cell_type": "markdown",
   "id": "ac207ccb",
   "metadata": {},
   "source": [
    "# Demonstração de como cadastrar jogadores da copa do mundo no python para o banco de dados"
   ]
  },
  {
   "cell_type": "markdown",
   "id": "b241346c",
   "metadata": {},
   "source": [
    "# Importando as bibliotecas utilizadas no projeto"
   ]
  },
  {
   "cell_type": "code",
   "execution_count": 42,
   "id": "99fd0ff1",
   "metadata": {},
   "outputs": [],
   "source": [
    "import tkinter as tk\n",
    "import sqlite3\n",
    "import pandas as pd\n",
    "import os\n",
    "import pandas as pd"
   ]
  },
  {
   "cell_type": "markdown",
   "id": "8913c860",
   "metadata": {},
   "source": [
    "# Criando um auto remove para a tabela do banco de dados"
   ]
  },
  {
   "cell_type": "code",
   "execution_count": 43,
   "id": "c7491d5a",
   "metadata": {},
   "outputs": [],
   "source": [
    "os.remove('jogadores.db')if os.path.exists('jogadores.db') else None"
   ]
  },
  {
   "cell_type": "markdown",
   "id": "50acb11c",
   "metadata": {},
   "source": [
    "# Criando a conexão do python com o banco de dados sqlite3 e criando a função de criar tabela"
   ]
  },
  {
   "cell_type": "code",
   "execution_count": 44,
   "id": "d11d275a",
   "metadata": {},
   "outputs": [],
   "source": [
    "conexao = sqlite3.connect('jogadores.db')\n",
    "#\n",
    "# # Criando o cursor:\n",
    "c = conexao.cursor()\n",
    "#\n",
    "# # Criando a tabela:\n",
    "def create_table():\n",
    "    c.execute(\"\"\"CREATE TABLE  jogador (\n",
    "     nome text,\n",
    "     selecao text,\n",
    "     idade integer,\n",
    "     posicao text\n",
    "     )\"\"\")\n",
    "#\n",
    "# #Commit as mudanças:\n",
    "    conexao.commit()\n",
    "#\n",
    "# #Fechar o banco de dados:\n",
    "    #conexao.close()\n",
    "create_table()"
   ]
  },
  {
   "cell_type": "markdown",
   "id": "8509bef0",
   "metadata": {},
   "source": [
    "# Criando conexão do python com a biblioteca de interface grafica"
   ]
  },
  {
   "cell_type": "code",
   "execution_count": 45,
   "id": "ffb5afc4",
   "metadata": {},
   "outputs": [
    {
     "data": {
      "text/plain": [
       "''"
      ]
     },
     "execution_count": 45,
     "metadata": {},
     "output_type": "execute_result"
    }
   ],
   "source": [
    "#Criando Janela:\n",
    "\n",
    "janela = tk.Tk()\n",
    "janela.title('Cadastro de Jogador')\n",
    "janela. geometry(\"330x350\")"
   ]
  },
  {
   "cell_type": "markdown",
   "id": "5efe4bba",
   "metadata": {},
   "source": [
    "# Criando a função de cadastrar jogador"
   ]
  },
  {
   "cell_type": "code",
   "execution_count": 46,
   "id": "a66128d0",
   "metadata": {},
   "outputs": [],
   "source": [
    "def cadastrar_jogador():\n",
    "    conexao = sqlite3.connect('jogadores.db')\n",
    "    c = conexao.cursor()\n",
    "\n",
    "    #Inserir dados na tabela:\n",
    "    c.execute(\"INSERT INTO jogador VALUES (:nome,:selecao,:idade,:posicao)\",\n",
    "              {\n",
    "                  'nome': entry_nome.get(),\n",
    "                  'selecao': entry_selecao.get(),\n",
    "                  'idade': entry_idade.get(),\n",
    "                  'posicao': entry_posicao.get()\n",
    "              })\n",
    "\n",
    "\n",
    "    # Commit as mudanças:\n",
    "    conexao.commit()\n",
    "\n",
    "    # Fechar o banco de dados:\n",
    "    #conexao.close()\n",
    "\n",
    "    # #Apaga os valores das caixas de entrada\n",
    "    entry_nome.delete(0,\"end\")\n",
    "    entry_selecao.delete(0,\"end\")\n",
    "    entry_idade.delete(0,\"end\")\n",
    "    entry_posicao.delete(0,\"end\")"
   ]
  },
  {
   "cell_type": "markdown",
   "id": "a673c905",
   "metadata": {},
   "source": [
    "# Criando a função de mostrar os dados do banco de dados na tela"
   ]
  },
  {
   "cell_type": "code",
   "execution_count": 47,
   "id": "8e62d925",
   "metadata": {},
   "outputs": [],
   "source": [
    "def find_all():\n",
    "    \n",
    "    conexao = sqlite3.connect('jogadores.db')\n",
    "    c = conexao.cursor()\n",
    "    c.execute(\"SELECT * FROM jogador\")\n",
    "    return c.fetchall()"
   ]
  },
  {
   "cell_type": "markdown",
   "id": "a3ccf5e1",
   "metadata": {},
   "source": [
    "# Criando a função de deletar registros do banco de dados"
   ]
  },
  {
   "cell_type": "code",
   "execution_count": 48,
   "id": "88588e08",
   "metadata": {},
   "outputs": [],
   "source": [
    "def deletar_registro(nome):\n",
    "    \n",
    "    conexao = sqlite3.connect('jogadores.db')\n",
    "    c = conexao.cursor()\n",
    "    cursor.execute(\"DELETE from jogador WHERE nome = %s\", (str(nome),))\n",
    "    conexao.commit()"
   ]
  },
  {
   "cell_type": "markdown",
   "id": "115c64dc",
   "metadata": {},
   "source": [
    "# Criando a função de deletar a tabela inteira"
   ]
  },
  {
   "cell_type": "code",
   "execution_count": 49,
   "id": "037ccc33",
   "metadata": {},
   "outputs": [],
   "source": [
    "def deletar_table():\n",
    "    \n",
    "    conexao = sqlite3.connect('jogadores.db')\n",
    "    c = conexao.cursor()\n",
    "    cursor.execute(\"DROP TABLE jogador\")\n",
    "    conexao.commit()"
   ]
  },
  {
   "cell_type": "markdown",
   "id": "38c47d40",
   "metadata": {},
   "source": [
    "# Criando a janela com a interface grafica"
   ]
  },
  {
   "cell_type": "code",
   "execution_count": 50,
   "id": "47b5a018",
   "metadata": {},
   "outputs": [],
   "source": [
    "#Rótulos Entradas:\n",
    "label_nome = tk.Label(janela, text='Nome')\n",
    "label_nome.grid(row=0,column=0, padx=10, pady=10)\n",
    "\n",
    "label_selecao = tk.Label(janela, text='Seleção')\n",
    "label_selecao.grid(row=1, column=0, padx=10, pady=10)\n",
    "\n",
    "label_idade = tk.Label(janela, text='Idade')\n",
    "label_idade.grid(row=2, column=0 , padx=10, pady=10)\n",
    "\n",
    "label_posicao = tk.Label(janela, text='Posição')\n",
    "label_posicao.grid(row=3, column=0, padx=10, pady=10)\n",
    "\n",
    "#Caixas Entradas:\n",
    "entry_nome = tk.Entry(janela , width =35)\n",
    "entry_nome.grid(row=0,column=1, padx=10, pady=10)\n",
    "\n",
    "entry_selecao = tk.Entry(janela, width =35)\n",
    "entry_selecao.grid(row=1, column=1, padx=10, pady=10)\n",
    "\n",
    "entry_idade = tk.Entry(janela, width =35)\n",
    "entry_idade.grid(row=2, column=1 , padx=10, pady=10)\n",
    "\n",
    "entry_posicao = tk.Entry(janela, width =35)\n",
    "entry_posicao.grid(row=3, column=1, padx=10, pady=10)\n",
    "\n",
    "# Botão de Cadastrar\n",
    "\n",
    "botao_cadastrar = tk.Button(text='Cadastrar Jogador', command=cadastrar_jogador)\n",
    "botao_cadastrar.grid(row=4, column=0,columnspan=2, padx=10, pady=10 , ipadx = 80)\n",
    "\n",
    "\n",
    "\n",
    "\n",
    "janela.mainloop()"
   ]
  },
  {
   "cell_type": "markdown",
   "id": "c0e59fe7",
   "metadata": {},
   "source": [
    "# Selecionando todos os registros da tabela criada"
   ]
  },
  {
   "cell_type": "code",
   "execution_count": 51,
   "id": "b2c4628b",
   "metadata": {},
   "outputs": [
    {
     "data": {
      "text/plain": [
       "[('Messi', 'Argentina', 34, 'Meia-Atacante'),\n",
       " ('Cristiano Ronaldo', 'Portugual', 37, 'Atacante'),\n",
       " ('Mbappe', 'França', 21, 'Atacante'),\n",
       " ('De Bruyne', 'Bélgica', 29, 'Meia'),\n",
       " ('Van Dijk', 'Holand', 30, 'Zagueiro'),\n",
       " ('Varane', 'França', 30, 'Zagueiro'),\n",
       " ('Benzema', 'França', 33, 'Atacante'),\n",
       " ('Vinicius Junior', 'Brasil', 22, 'Atacante'),\n",
       " ('Kante', 'França', 29, 'Volante')]"
      ]
     },
     "execution_count": 51,
     "metadata": {},
     "output_type": "execute_result"
    }
   ],
   "source": [
    "s = find_all()\n",
    "s"
   ]
  },
  {
   "cell_type": "markdown",
   "id": "450d13da",
   "metadata": {},
   "source": [
    "# Transformando a tabela do banco de dados criada em um Dataframe"
   ]
  },
  {
   "cell_type": "code",
   "execution_count": 52,
   "id": "72ae8e88",
   "metadata": {},
   "outputs": [
    {
     "data": {
      "text/html": [
       "<div>\n",
       "<style scoped>\n",
       "    .dataframe tbody tr th:only-of-type {\n",
       "        vertical-align: middle;\n",
       "    }\n",
       "\n",
       "    .dataframe tbody tr th {\n",
       "        vertical-align: top;\n",
       "    }\n",
       "\n",
       "    .dataframe thead th {\n",
       "        text-align: right;\n",
       "    }\n",
       "</style>\n",
       "<table border=\"1\" class=\"dataframe\">\n",
       "  <thead>\n",
       "    <tr style=\"text-align: right;\">\n",
       "      <th></th>\n",
       "      <th>nome</th>\n",
       "      <th>selecao</th>\n",
       "      <th>idade</th>\n",
       "      <th>posicao</th>\n",
       "    </tr>\n",
       "  </thead>\n",
       "  <tbody>\n",
       "    <tr>\n",
       "      <th>0</th>\n",
       "      <td>Messi</td>\n",
       "      <td>Argentina</td>\n",
       "      <td>34</td>\n",
       "      <td>Meia-Atacante</td>\n",
       "    </tr>\n",
       "    <tr>\n",
       "      <th>1</th>\n",
       "      <td>Cristiano Ronaldo</td>\n",
       "      <td>Portugual</td>\n",
       "      <td>37</td>\n",
       "      <td>Atacante</td>\n",
       "    </tr>\n",
       "    <tr>\n",
       "      <th>2</th>\n",
       "      <td>Mbappe</td>\n",
       "      <td>França</td>\n",
       "      <td>21</td>\n",
       "      <td>Atacante</td>\n",
       "    </tr>\n",
       "    <tr>\n",
       "      <th>3</th>\n",
       "      <td>De Bruyne</td>\n",
       "      <td>Bélgica</td>\n",
       "      <td>29</td>\n",
       "      <td>Meia</td>\n",
       "    </tr>\n",
       "    <tr>\n",
       "      <th>4</th>\n",
       "      <td>Van Dijk</td>\n",
       "      <td>Holand</td>\n",
       "      <td>30</td>\n",
       "      <td>Zagueiro</td>\n",
       "    </tr>\n",
       "    <tr>\n",
       "      <th>5</th>\n",
       "      <td>Varane</td>\n",
       "      <td>França</td>\n",
       "      <td>30</td>\n",
       "      <td>Zagueiro</td>\n",
       "    </tr>\n",
       "    <tr>\n",
       "      <th>6</th>\n",
       "      <td>Benzema</td>\n",
       "      <td>França</td>\n",
       "      <td>33</td>\n",
       "      <td>Atacante</td>\n",
       "    </tr>\n",
       "    <tr>\n",
       "      <th>7</th>\n",
       "      <td>Vinicius Junior</td>\n",
       "      <td>Brasil</td>\n",
       "      <td>22</td>\n",
       "      <td>Atacante</td>\n",
       "    </tr>\n",
       "    <tr>\n",
       "      <th>8</th>\n",
       "      <td>Kante</td>\n",
       "      <td>França</td>\n",
       "      <td>29</td>\n",
       "      <td>Volante</td>\n",
       "    </tr>\n",
       "  </tbody>\n",
       "</table>\n",
       "</div>"
      ],
      "text/plain": [
       "                nome    selecao  idade        posicao\n",
       "0              Messi  Argentina     34  Meia-Atacante\n",
       "1  Cristiano Ronaldo  Portugual     37       Atacante\n",
       "2             Mbappe     França     21       Atacante\n",
       "3          De Bruyne    Bélgica     29           Meia\n",
       "4           Van Dijk     Holand     30       Zagueiro\n",
       "5             Varane     França     30       Zagueiro\n",
       "6            Benzema     França     33       Atacante\n",
       "7    Vinicius Junior     Brasil     22       Atacante\n",
       "8              Kante     França     29        Volante"
      ]
     },
     "execution_count": 52,
     "metadata": {},
     "output_type": "execute_result"
    }
   ],
   "source": [
    "jogador_df = pd.read_sql('select * from jogador',conexao)\n",
    "jogador_df"
   ]
  }
 ],
 "metadata": {
  "kernelspec": {
   "display_name": "Python 3 (ipykernel)",
   "language": "python",
   "name": "python3"
  },
  "language_info": {
   "codemirror_mode": {
    "name": "ipython",
    "version": 3
   },
   "file_extension": ".py",
   "mimetype": "text/x-python",
   "name": "python",
   "nbconvert_exporter": "python",
   "pygments_lexer": "ipython3",
   "version": "3.8.10"
  }
 },
 "nbformat": 4,
 "nbformat_minor": 5
}
