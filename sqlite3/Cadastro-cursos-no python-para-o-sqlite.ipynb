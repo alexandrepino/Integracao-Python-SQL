{
 "cells": [
  {
   "cell_type": "markdown",
   "id": "dd25deb4",
   "metadata": {},
   "source": [
    "# Importando as Bibliotecas utilizadas no projeto "
   ]
  },
  {
   "cell_type": "code",
   "execution_count": 85,
   "id": "1f670219",
   "metadata": {},
   "outputs": [],
   "source": [
    "import pandas as pd\n",
    "import os\n",
    "import sqlite3\n",
    "import matplotlib.pyplot as plt"
   ]
  },
  {
   "cell_type": "markdown",
   "id": "3d20007c",
   "metadata": {},
   "source": [
    "# Auto remove do projeto"
   ]
  },
  {
   "cell_type": "code",
   "execution_count": 50,
   "id": "805e3de3",
   "metadata": {},
   "outputs": [],
   "source": [
    "os.remove('acervocursos.db')if os.path.exists('acervocursos.db') else None"
   ]
  },
  {
   "cell_type": "markdown",
   "id": "757f493f",
   "metadata": {},
   "source": [
    "# Criando a conexão com o banco de dados"
   ]
  },
  {
   "cell_type": "code",
   "execution_count": 51,
   "id": "22cdefde",
   "metadata": {},
   "outputs": [],
   "source": [
    "conexao = sqlite3.connect('acervocursos.db')"
   ]
  },
  {
   "cell_type": "markdown",
   "id": "a2c13179",
   "metadata": {},
   "source": [
    "# Criando o cursor para percorrer as linhas com o banco de dados"
   ]
  },
  {
   "cell_type": "code",
   "execution_count": 52,
   "id": "16bb5a5d",
   "metadata": {},
   "outputs": [],
   "source": [
    "cur = conexao.cursor()"
   ]
  },
  {
   "cell_type": "markdown",
   "id": "bfc56eb0",
   "metadata": {},
   "source": [
    "# Criando a função para criar tabela de cursos"
   ]
  },
  {
   "cell_type": "code",
   "execution_count": 53,
   "id": "51d4955d",
   "metadata": {},
   "outputs": [],
   "source": [
    "def create_table():\n",
    "    cur.execute('create table cursos (id integer primary key not null, nome varchar(20), categoria varchar(20), professor varchar(20), valor real)')"
   ]
  },
  {
   "cell_type": "markdown",
   "id": "48e85885",
   "metadata": {},
   "source": [
    "# Criando a função de inserir registros na tabela de cursos"
   ]
  },
  {
   "cell_type": "code",
   "execution_count": 54,
   "id": "9b59cf9d",
   "metadata": {},
   "outputs": [],
   "source": [
    "def sql_insert():\n",
    "    novo_nome = input('Nome: ')\n",
    "    nova_categoria = input('Categoria: ')\n",
    "    novo_professores = input('Professor: ')\n",
    "    novo_valor = float(input('Valor: '))\n",
    "    cur.execute('insert into cursos(nome, categoria, professor, valor) values (?,?,?,?)',(novo_nome, nova_categoria, novo_professores, novo_valor))\n",
    "    conexao.commit()"
   ]
  },
  {
   "cell_type": "markdown",
   "id": "66753c2a",
   "metadata": {},
   "source": [
    "# Executando a função de criar tabela"
   ]
  },
  {
   "cell_type": "code",
   "execution_count": 55,
   "id": "7caff151",
   "metadata": {},
   "outputs": [],
   "source": [
    "create_table()"
   ]
  },
  {
   "cell_type": "markdown",
   "id": "cc7b516a",
   "metadata": {},
   "source": [
    "# Executando a função de inserir dados e cadastrando cursos na tela"
   ]
  },
  {
   "cell_type": "code",
   "execution_count": 56,
   "id": "ac32ad9c",
   "metadata": {},
   "outputs": [
    {
     "name": "stdout",
     "output_type": "stream",
     "text": [
      "Nome: Java\n",
      "Categoria: Programação\n",
      "Professor: Gustavo Guanabara\n",
      "Valor: 90\n",
      "Nome: MySQL\n",
      "Categoria: Banco de Dados\n",
      "Professor: Guilherme Silveira\n",
      "Valor: 120\n",
      "Nome: Linux Avançado\n",
      "Categoria: Sistema Operacional\n",
      "Professor: Marcos Silva\n",
      "Valor: 200\n",
      "Nome: Excel Avançado\n",
      "Categoria: Pacote Office\n",
      "Professor: Alon\n",
      "Valor: 50\n",
      "Nome: Python\n",
      "Categoria: Programação\n",
      "Professor: Lira\n",
      "Valor: 130\n",
      "Nome: Wordpress\n",
      "Categoria: Web\n",
      "Professor: Alfredo\n",
      "Valor: 100\n",
      "Nome: Cabeamentos\n",
      "Categoria: Rede de Computadores\n",
      "Professor: Alfredo\n",
      "Valor: 80\n"
     ]
    }
   ],
   "source": [
    "for r in range(7):\n",
    "    sql_insert()\n",
    "    "
   ]
  },
  {
   "cell_type": "markdown",
   "id": "2a5ec9db",
   "metadata": {},
   "source": [
    "# Convertendo a tabela cursos para um DataFrame e modificando o nome da coluna"
   ]
  },
  {
   "cell_type": "code",
   "execution_count": 121,
   "id": "87041ced",
   "metadata": {},
   "outputs": [],
   "source": [
    "cursos_df = pd.read_sql('Select * from cursos', conexao)\n",
    "cursos_df = cursos_df.rename(columns={'id': 'id_curso'})"
   ]
  },
  {
   "cell_type": "markdown",
   "id": "a2aa0dbb",
   "metadata": {},
   "source": [
    "# Exibindo a tabela cursos na tela"
   ]
  },
  {
   "cell_type": "code",
   "execution_count": 124,
   "id": "fc3ef2b1",
   "metadata": {},
   "outputs": [
    {
     "data": {
      "text/html": [
       "<div>\n",
       "<style scoped>\n",
       "    .dataframe tbody tr th:only-of-type {\n",
       "        vertical-align: middle;\n",
       "    }\n",
       "\n",
       "    .dataframe tbody tr th {\n",
       "        vertical-align: top;\n",
       "    }\n",
       "\n",
       "    .dataframe thead th {\n",
       "        text-align: right;\n",
       "    }\n",
       "</style>\n",
       "<table border=\"1\" class=\"dataframe\">\n",
       "  <thead>\n",
       "    <tr style=\"text-align: right;\">\n",
       "      <th></th>\n",
       "      <th>id_curso</th>\n",
       "      <th>nome</th>\n",
       "      <th>categoria</th>\n",
       "      <th>professor</th>\n",
       "      <th>valor</th>\n",
       "    </tr>\n",
       "  </thead>\n",
       "  <tbody>\n",
       "    <tr>\n",
       "      <th>0</th>\n",
       "      <td>1</td>\n",
       "      <td>Java</td>\n",
       "      <td>Programação</td>\n",
       "      <td>Gustavo Guanabara</td>\n",
       "      <td>90.0</td>\n",
       "    </tr>\n",
       "    <tr>\n",
       "      <th>1</th>\n",
       "      <td>2</td>\n",
       "      <td>MySQL</td>\n",
       "      <td>Banco de Dados</td>\n",
       "      <td>Guilherme Silveira</td>\n",
       "      <td>120.0</td>\n",
       "    </tr>\n",
       "    <tr>\n",
       "      <th>2</th>\n",
       "      <td>3</td>\n",
       "      <td>Linux Avançado</td>\n",
       "      <td>Sistema Operacional</td>\n",
       "      <td>Marcos Silva</td>\n",
       "      <td>200.0</td>\n",
       "    </tr>\n",
       "    <tr>\n",
       "      <th>3</th>\n",
       "      <td>4</td>\n",
       "      <td>Excel Avançado</td>\n",
       "      <td>Pacote Office</td>\n",
       "      <td>Alon</td>\n",
       "      <td>50.0</td>\n",
       "    </tr>\n",
       "    <tr>\n",
       "      <th>4</th>\n",
       "      <td>5</td>\n",
       "      <td>Python</td>\n",
       "      <td>Programação</td>\n",
       "      <td>Lira</td>\n",
       "      <td>130.0</td>\n",
       "    </tr>\n",
       "    <tr>\n",
       "      <th>5</th>\n",
       "      <td>6</td>\n",
       "      <td>Wordpress</td>\n",
       "      <td>Web</td>\n",
       "      <td>Alfredo</td>\n",
       "      <td>100.0</td>\n",
       "    </tr>\n",
       "    <tr>\n",
       "      <th>6</th>\n",
       "      <td>7</td>\n",
       "      <td>Cabeamentos</td>\n",
       "      <td>Rede de Computadores</td>\n",
       "      <td>Alfredo</td>\n",
       "      <td>80.0</td>\n",
       "    </tr>\n",
       "  </tbody>\n",
       "</table>\n",
       "</div>"
      ],
      "text/plain": [
       "   id_curso            nome             categoria           professor  valor\n",
       "0         1            Java           Programação   Gustavo Guanabara   90.0\n",
       "1         2           MySQL        Banco de Dados  Guilherme Silveira  120.0\n",
       "2         3  Linux Avançado   Sistema Operacional        Marcos Silva  200.0\n",
       "3         4  Excel Avançado         Pacote Office                Alon   50.0\n",
       "4         5          Python           Programação                Lira  130.0\n",
       "5         6       Wordpress                   Web             Alfredo  100.0\n",
       "6         7     Cabeamentos  Rede de Computadores             Alfredo   80.0"
      ]
     },
     "execution_count": 124,
     "metadata": {},
     "output_type": "execute_result"
    }
   ],
   "source": [
    "cursos_df"
   ]
  },
  {
   "cell_type": "markdown",
   "id": "f00315c7",
   "metadata": {},
   "source": [
    "# Modificando o index da tabela "
   ]
  },
  {
   "cell_type": "code",
   "execution_count": 125,
   "id": "59512406",
   "metadata": {},
   "outputs": [
    {
     "data": {
      "text/html": [
       "<div>\n",
       "<style scoped>\n",
       "    .dataframe tbody tr th:only-of-type {\n",
       "        vertical-align: middle;\n",
       "    }\n",
       "\n",
       "    .dataframe tbody tr th {\n",
       "        vertical-align: top;\n",
       "    }\n",
       "\n",
       "    .dataframe thead th {\n",
       "        text-align: right;\n",
       "    }\n",
       "</style>\n",
       "<table border=\"1\" class=\"dataframe\">\n",
       "  <thead>\n",
       "    <tr style=\"text-align: right;\">\n",
       "      <th></th>\n",
       "      <th>nome</th>\n",
       "      <th>categoria</th>\n",
       "      <th>professor</th>\n",
       "      <th>valor</th>\n",
       "    </tr>\n",
       "    <tr>\n",
       "      <th>id_curso</th>\n",
       "      <th></th>\n",
       "      <th></th>\n",
       "      <th></th>\n",
       "      <th></th>\n",
       "    </tr>\n",
       "  </thead>\n",
       "  <tbody>\n",
       "    <tr>\n",
       "      <th>1</th>\n",
       "      <td>Java</td>\n",
       "      <td>Programação</td>\n",
       "      <td>Gustavo Guanabara</td>\n",
       "      <td>90.0</td>\n",
       "    </tr>\n",
       "    <tr>\n",
       "      <th>2</th>\n",
       "      <td>MySQL</td>\n",
       "      <td>Banco de Dados</td>\n",
       "      <td>Guilherme Silveira</td>\n",
       "      <td>120.0</td>\n",
       "    </tr>\n",
       "    <tr>\n",
       "      <th>3</th>\n",
       "      <td>Linux Avançado</td>\n",
       "      <td>Sistema Operacional</td>\n",
       "      <td>Marcos Silva</td>\n",
       "      <td>200.0</td>\n",
       "    </tr>\n",
       "    <tr>\n",
       "      <th>4</th>\n",
       "      <td>Excel Avançado</td>\n",
       "      <td>Pacote Office</td>\n",
       "      <td>Alon</td>\n",
       "      <td>50.0</td>\n",
       "    </tr>\n",
       "    <tr>\n",
       "      <th>5</th>\n",
       "      <td>Python</td>\n",
       "      <td>Programação</td>\n",
       "      <td>Lira</td>\n",
       "      <td>130.0</td>\n",
       "    </tr>\n",
       "    <tr>\n",
       "      <th>6</th>\n",
       "      <td>Wordpress</td>\n",
       "      <td>Web</td>\n",
       "      <td>Alfredo</td>\n",
       "      <td>100.0</td>\n",
       "    </tr>\n",
       "    <tr>\n",
       "      <th>7</th>\n",
       "      <td>Cabeamentos</td>\n",
       "      <td>Rede de Computadores</td>\n",
       "      <td>Alfredo</td>\n",
       "      <td>80.0</td>\n",
       "    </tr>\n",
       "  </tbody>\n",
       "</table>\n",
       "</div>"
      ],
      "text/plain": [
       "                    nome             categoria           professor  valor\n",
       "id_curso                                                                 \n",
       "1                   Java           Programação   Gustavo Guanabara   90.0\n",
       "2                  MySQL        Banco de Dados  Guilherme Silveira  120.0\n",
       "3         Linux Avançado   Sistema Operacional        Marcos Silva  200.0\n",
       "4         Excel Avançado         Pacote Office                Alon   50.0\n",
       "5                 Python           Programação                Lira  130.0\n",
       "6              Wordpress                   Web             Alfredo  100.0\n",
       "7            Cabeamentos  Rede de Computadores             Alfredo   80.0"
      ]
     },
     "execution_count": 125,
     "metadata": {},
     "output_type": "execute_result"
    }
   ],
   "source": [
    "cursos_df = cursos_df.set_index('id_curso')\n",
    "cursos_df"
   ]
  },
  {
   "cell_type": "markdown",
   "id": "f84dbef8",
   "metadata": {},
   "source": [
    "# Criando um gráfico com os valores de cada curso"
   ]
  },
  {
   "cell_type": "code",
   "execution_count": 126,
   "id": "0de37b2a",
   "metadata": {},
   "outputs": [
    {
     "data": {
      "image/png": "[encoded data removed]",
      "text/plain": [
       "<Figure size 432x288 with 1 Axes>"
      ]
     },
     "metadata": {
      "needs_background": "light"
     },
     "output_type": "display_data"
    }
   ],
   "source": [
    "grafico = cursos_df['valor'].plot(kind='bar')\n",
    "\n",
    "\n"
   ]
  },
  {
   "cell_type": "code",
   "execution_count": null,
   "id": "1a6bd290",
   "metadata": {},
   "outputs": [],
   "source": []
  }
 ],
 "metadata": {
  "kernelspec": {
   "display_name": "Python 3 (ipykernel)",
   "language": "python",
   "name": "python3"
  },
  "language_info": {
   "codemirror_mode": {
    "name": "ipython",
    "version": 3
   },
   "file_extension": ".py",
   "mimetype": "text/x-python",
   "name": "python",
   "nbconvert_exporter": "python",
   "pygments_lexer": "ipython3",
   "version": "3.9.7"
  }
 },
 "nbformat": 4,
 "nbformat_minor": 5
}
